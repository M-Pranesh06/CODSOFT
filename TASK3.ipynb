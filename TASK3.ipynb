{
  "nbformat": 4,
  "nbformat_minor": 0,
  "metadata": {
    "colab": {
      "provenance": []
    },
    "kernelspec": {
      "name": "python3",
      "display_name": "Python 3"
    },
    "language_info": {
      "name": "python"
    }
  },
  "cells": [
    {
      "cell_type": "code",
      "execution_count": 1,
      "metadata": {
        "id": "-RTEJh1sMIxk",
        "outputId": "f66e5681-30a8-4df9-aa19-064f1f6431e0",
        "colab": {
          "base_uri": "https://localhost:8080/"
        }
      },
      "outputs": [
        {
          "output_type": "stream",
          "name": "stdout",
          "text": [
            "Recommendations for Inception:\n",
            "1       Interstellar\n",
            "2    The Dark Knight\n",
            "3           Avengers\n",
            "Name: title, dtype: object\n"
          ]
        }
      ],
      "source": [
        "import pandas as pd\n",
        "from sklearn.feature_extraction.text import TfidfVectorizer\n",
        "from sklearn.metrics.pairwise import linear_kernel\n",
        "\n",
        "# Sample movie dataset\n",
        "movies = pd.DataFrame({\n",
        "    'title': ['Inception', 'Interstellar', 'The Dark Knight', 'Avengers', 'Iron Man'],\n",
        "    'genre': ['Sci-Fi Thriller', 'Sci-Fi Adventure', 'Action Crime', 'Action Superhero', 'Action Superhero']\n",
        "})\n",
        "\n",
        "# Convert genres to TF-IDF matrix\n",
        "tfidf = TfidfVectorizer(stop_words='english')\n",
        "tfidf_matrix = tfidf.fit_transform(movies['genre'])\n",
        "\n",
        "# Compute cosine similarity\n",
        "cosine_sim = linear_kernel(tfidf_matrix, tfidf_matrix)\n",
        "\n",
        "# Recommendation function\n",
        "def recommend(title, cosine_sim=cosine_sim):\n",
        "    idx = movies.index[movies['title'] == title][0]\n",
        "    sim_scores = list(enumerate(cosine_sim[idx]))\n",
        "    sim_scores = sorted(sim_scores, key=lambda x: x[1], reverse=True)\n",
        "    sim_scores = sim_scores[1:4]  # top 3\n",
        "    movie_indices = [i[0] for i in sim_scores]\n",
        "    return movies['title'].iloc[movie_indices]\n",
        "\n",
        "print(\"Recommendations for Inception:\")\n",
        "print(recommend('Inception'))\n"
      ]
    }
  ]
}